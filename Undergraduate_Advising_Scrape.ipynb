{
 "cells": [
  {
   "cell_type": "code",
   "execution_count": 1,
   "id": "fdb3feb1",
   "metadata": {},
   "outputs": [],
   "source": [
    "#Only good for static websites\n",
    "from bs4 import BeautifulSoup\n",
    "import requests\n",
    "import pandas as pd"
   ]
  },
  {
   "cell_type": "code",
   "execution_count": 3,
   "id": "2d9b1050",
   "metadata": {},
   "outputs": [],
   "source": [
    "#https://ece.ucdavis.edu/undergraduate/undergraduate-advising\n",
    "\n",
    "url = \"https://ece.ucdavis.edu/undergraduate/undergraduate-advising\"\n",
    "# base_url = \"https://catalog.ucdavis.edu\"\n",
    "\n",
    "page = requests.get(url)\n",
    "\n",
    "soup = BeautifulSoup(page.text, 'html')"
   ]
  },
  {
   "cell_type": "code",
   "execution_count": null,
   "id": "47a966e7",
   "metadata": {},
   "outputs": [
    {
     "name": "stdout",
     "output_type": "stream",
     "text": [
      "{'Advising for New Students': 'https://ece.ucdavis.edu/undergraduate/aggie-advising', 'IDP Program': 'https://ece.ucdavis.edu/undergraduate/integrated-degree-programs', 'College of Engineering': 'https://engineering.ucdavis.edu/undergraduates/academic-advising', 'Degree Requirements': 'https://ece.ucdavis.edu/undergraduate/degrees-requirements', 'Course Offerings': 'https://ece.ucdavis.edu/course-schedules', 'Mandatory Academic Advising': 'https://ece.sf.ucdavis.edu/undergraduate/annual-mandatory-advising', 'Release Holds': 'https://ece.sf.ucdavis.edu/undergraduate/annual-mandatory-advising', 'Internship Info.Forms': 'https://ece.sf.ucdavis.edu/undergraduate/forms', 'PTA Request': 'https://ece.ucdavis.edu/pta-request-1', \"FAQ's\": 'https://ece.ucdavis.edu/undergraduate/frequently-asked-questions', 'Change of Major': 'https://ece.ucdavis.edu/undergraduate/frequently-asked-questions'}\n"
     ]
    }
   ],
   "source": [
    "#All the links and names associated with the bubble icons on the site\n",
    "\n",
    "links = soup.find_all('div', class_ = 'layout__region priority-links')\n",
    "titles_scraped = soup.find_all('div', class_ = 'vertical-link__title')\n",
    "titles = []\n",
    "\n",
    "for title in titles_scraped:\n",
    "    stripped = str(title).split('>')[1]\n",
    "    if 'New Students' not in str(stripped).replace('&amp;', \"\").replace('</div', ''):\n",
    "        if str(stripped).replace('&amp;', \"\").replace('</div', '').replace('\\n', '').replace('  ', '') == 'DegreesRequirements':\n",
    "            titles.append(\"Degree Requirements\")\n",
    "        else:\n",
    "            titles.append(str(stripped).replace('&amp;', \"\").replace('</div', '').replace('\\n', '').replace('  ', ''))\n",
    "\n",
    "\n",
    "list_of_scraped_links = {'Advising for New Students': 'https://ece.ucdavis.edu/undergraduate/aggie-advising',\n",
    "                         'IDP Program': 'https://ece.ucdavis.edu/undergraduate/integrated-degree-programs',\n",
    "                         'College of Engineering': 'https://engineering.ucdavis.edu/undergraduates/academic-advising'}\n",
    "\n",
    "i = 0\n",
    "for scrape in links:\n",
    "    for a in scrape.find_all('a', href=True):\n",
    "        if \"https\" in a['href']:\n",
    "            # print(\"Found the URL:\", a['href'])\n",
    "            list_of_scraped_links[titles[i]] = a['href']\n",
    "            i = i + 1\n",
    "    \n",
    "    # print(len(list_of_scraped_links))\n",
    "\n",
    "\n",
    "list_of_scraped_links['Change of Major'] = 'https://ece.ucdavis.edu/undergraduate/frequently-asked-questions'\n",
    "\n",
    "\n",
    "\n",
    "print(list_of_scraped_links)\n"
   ]
  },
  {
   "cell_type": "code",
   "execution_count": 171,
   "id": "327998b9",
   "metadata": {},
   "outputs": [],
   "source": [
    "def check_info(item):\n",
    "    #Email: \"mailto:eceugradinfo@ucdavis.edu\">eceugradinfo@ucdavis.edu</a><span>   </span>\n",
    "\n",
    "    if 'mailto' in item:\n",
    "        cleaned = item.replace('Email:', '').replace('\\\"mailto:', '').replace('\\\">eceugradinfo@ucdavis', '').replace('</a><span>', '').strip()\n",
    "        cleaned = str(cleaned.split('.edu')[0]) + '.edu'\n",
    "        return cleaned\n",
    "    elif 'Click' in item:\n",
    "        cleaned = item.replace('Click \"', '')\n",
    "\n",
    "        return cleaned.split('.edu')[0] + '.edu'\n",
    "    elif 'Office' in item:\n",
    "        return item.replace('Office Location: ', '')\n",
    "    \n",
    "    elif \" \" == item:\n",
    "        pass\n",
    "    else:\n",
    "        return item"
   ]
  },
  {
   "cell_type": "code",
   "execution_count": 184,
   "id": "46a09093",
   "metadata": {},
   "outputs": [
    {
     "name": "stdout",
     "output_type": "stream",
     "text": [
      "{'Ileana Oseguera\\n': ['2064 Kemper\\xa0 \\xa0 \\xa0 \\xa0 \\xa0 \\xa0 \\xa0 \\xa0 \\xa0 \\xa0 \\xa0 \\xa0 \\xa0 \\xa0 \\xa0 \\xa0 \\xa0 \\xa0 \\xa0 \\xa0 \\xa0 \\xa0 \\xa0 \\xa0 \\xa0 \\xa0\\xa0\\n', 'eceugradinfo@ucdavis.edu', 'Students with last names: A-L', 'In-Person: Tuesday-Thursday:\\xa09:00 am\\xa0- 4:00 pm (by appointment)', 'Remote: Monday, Friday:\\xa09:00 am - 4:00 pm (by appointment)', 'https://appointments.ucdavis.edu'], 'Pascal Gonzalez\\n': ['2064 Kemper\\n', 'eceugradinfo@ucdavis.edu', 'Students with last names: M-Z', 'In-Person: Mondays:\\xa09:00 am - 4:00 pm (by appointment)', 'Remote: Tuesday-Wednesday:\\xa09:00 am - 4:00 pm (by appointment)', 'https://appointments.ucdavis.edu'], 'Hussain Al-Asaad\\n': ['eceugradinfo@ucdavis.edu', 'Website:\\xa0\"https://ece.ucdavis.edu/directory/hussain-al-asaad\">https://www.ece.ucdavis.edu/~halasaad/</a>\\n', 'Office hours:\\xa0\\n', '\\xa0\\n', '<strong>Engineering Undergraduate Office</strong>\\n', 'Drop-in hours:\\xa0\"https://engineering.ucdavis.edu/undergraduates/academic-advising\"><strong>see website</strong></a><br/>Location: Kemper 1050 \\xa0 \\xa0 \\xa0 \\xa0 \\xa0 \\xa0 \\xa0 \\xa0 \\xa0 \\xa0 \\xa0 \\xa0 \\xa0 \\xa0 \\xa0 \\xa0 \\xa0 \\xa0 \\xa0 \\xa0 \\xa0 \\xa0 \\xa0 \\xa0 \\xa0 \\xa0 \\xa0 \\xa0 \\xa0 \\xa0 \\xa0\\xa0<br/>Phone: 530-752-1979\\n', '<em>Drop-in hours are subject to change without notice.\\xa0</em>\\n', 'Remote: Tuesday-Wednesday:\\xa09:00 am - 4:00 pm (by appointment)', '\\xa0\\n', '\\xa0\\n', '<span>To be determined for Fall 2025.</span>\\n', '\\xa0\\n', '<span>To be determined for Fall 2025.</span>\\n', 'The best resource for advice on career plans, choice of major, choice of elective courses\\xa0and for the writing of letters of recommendation for prospective jobs or graduate school admission are faculty advisors. Any \"https://ece.sf.ucdavis.edu/directory\">ECE faculty member</a> may serve as your advisor;\\xa0however we recommend selecting a faculty member whose \"/faculty-research\">research/specialty area</a> align with your interests to get the most out of the meeting.\\n', '<span>The ECE department highly encourages juniors and seniors in the electrical and computer engineering majors to schedule a faculty advising after meetings with their major advisor. This meeting allows students to discuss their career goals, possible internships, needed skills, and academic tracks. The advising process is outlined below:</span>\\n', '<span>The steps are as follows:</span>\\n']}\n"
     ]
    }
   ],
   "source": [
    "#This is a database for the advisors and their info\n",
    "#name, office location, email, Advises, Office hours (in person), office hours(remote), link to schedule appointment\n",
    "councelor_to_info = {}\n",
    "councelors_page = soup.find('div', class_ = 'block block-layout-builder block-inline-blocksf-basic panel')\n",
    "councelor_buffer = councelors_page.find_all('div')\n",
    "councelor_more_buffer = councelor_buffer[0]\n",
    "list_ = councelor_more_buffer.find_all('p')\n",
    "list2 = councelor_more_buffer.find_all('li')\n",
    "\n",
    "list_of_needed_componenets = []\n",
    "list2 = list2[2:]\n",
    "list2 = list2[:-6]\n",
    "cleaned_up = []\n",
    "\n",
    "for li in list2:\n",
    "    cleaned_up.append(str(li).replace('<li>', '').replace('</li>', '').replace('<span>', '').replace('</span>', ''))\n",
    "\n",
    "# print(*cleaned_up, sep='\\n')\n",
    "    \n",
    "\n",
    "for l in list_:\n",
    "    text = str(l).replace('<p>', '').replace('</p>', '').replace('<a href=', '')+ '\\n'\n",
    "    list_of_needed_componenets.append(text)\n",
    "\n",
    "new_list = list_of_needed_componenets[5:]\n",
    "del new_list[5:7]\n",
    "del new_list[5]\n",
    "del new_list[10:14]\n",
    "\n",
    "\n",
    "# print(*new_list, sep='\\n')\n",
    "# print(len(new_list))\n",
    "\n",
    "info = []\n",
    "#councelor_to_info\n",
    "i = 0\n",
    "k=0\n",
    "name = \"\"\n",
    "for stuff in new_list:\n",
    "    if i == 0 or i == 5 or i == 10:\n",
    "        name = new_list[i]\n",
    "        councelor_to_info[name] = []\n",
    "    else:\n",
    "        item = check_info(stuff)\n",
    "        if 'Advising' in item:\n",
    "            # print('here')\n",
    "            for j in range(3):\n",
    "                if k == 5:\n",
    "                    councelor_to_info[name].append(cleaned_up[k])\n",
    "                    break\n",
    "                else:\n",
    "                    councelor_to_info[name].append(cleaned_up[k])\n",
    "                k = k + 1\n",
    "        else:\n",
    "            councelor_to_info[name].append(item)\n",
    "    \n",
    "    i = i + 1\n",
    "\n",
    "\n",
    "print(councelor_to_info)\n",
    "\n",
    "\n",
    "\n",
    "\n",
    "\n",
    "\n",
    "\n",
    "\n",
    "\n",
    "\n",
    "\n",
    "\n",
    "\n"
   ]
  },
  {
   "cell_type": "code",
   "execution_count": null,
   "id": "03ef00fd",
   "metadata": {},
   "outputs": [],
   "source": []
  },
  {
   "cell_type": "code",
   "execution_count": null,
   "id": "53ef2eff",
   "metadata": {},
   "outputs": [],
   "source": []
  },
  {
   "cell_type": "code",
   "execution_count": null,
   "id": "9c959f21",
   "metadata": {},
   "outputs": [],
   "source": []
  },
  {
   "cell_type": "code",
   "execution_count": null,
   "id": "22dc195d",
   "metadata": {},
   "outputs": [],
   "source": []
  },
  {
   "cell_type": "code",
   "execution_count": null,
   "id": "bbb59ec6",
   "metadata": {},
   "outputs": [],
   "source": []
  },
  {
   "cell_type": "code",
   "execution_count": null,
   "id": "f81b17bc",
   "metadata": {},
   "outputs": [],
   "source": []
  },
  {
   "cell_type": "code",
   "execution_count": null,
   "id": "a46aaf02",
   "metadata": {},
   "outputs": [],
   "source": []
  }
 ],
 "metadata": {
  "kernelspec": {
   "display_name": "Python 3",
   "language": "python",
   "name": "python3"
  },
  "language_info": {
   "codemirror_mode": {
    "name": "ipython",
    "version": 3
   },
   "file_extension": ".py",
   "mimetype": "text/x-python",
   "name": "python",
   "nbconvert_exporter": "python",
   "pygments_lexer": "ipython3",
   "version": "3.11.1"
  }
 },
 "nbformat": 4,
 "nbformat_minor": 5
}
