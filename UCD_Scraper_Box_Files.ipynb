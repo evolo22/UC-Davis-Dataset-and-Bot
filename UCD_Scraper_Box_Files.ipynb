{
 "cells": [
  {
   "cell_type": "code",
   "execution_count": 55,
   "id": "a64c5093",
   "metadata": {},
   "outputs": [],
   "source": [
    "#Link to scrape\n",
    "\n",
    "#https://ece.ucdavis.edu/course-schedules\n",
    "from bs4 import BeautifulSoup\n",
    "import requests\n",
    "import pandas as pd\n",
    "from io import BytesIO"
   ]
  },
  {
   "cell_type": "code",
   "execution_count": 56,
   "id": "642a3e1b",
   "metadata": {},
   "outputs": [],
   "source": [
    "url = \"https://ece.ucdavis.edu/course-schedules\"\n",
    "\n",
    "page = requests.get(url)\n",
    "\n",
    "soup = BeautifulSoup(page.text, 'html')"
   ]
  },
  {
   "cell_type": "code",
   "execution_count": 57,
   "id": "c1cc2122",
   "metadata": {},
   "outputs": [
    {
     "name": "stdout",
     "output_type": "stream",
     "text": [
      "{'Tentative Course Offerings 2025-2026': 'https://ucdavis.box.com/s/hobikb86i41fhu6cotdyheh4i8u8nim2', 'Summer Session Schedule': 'https://ucdavis.box.com/s/5de67gjj3cv3x9kjsqixxvz3sf97taf8', 'Fall 2025 Course Schedule': 'https://ucdavis.app.box.com/file/1796011559807?s=rn9y1wqpggbxs6jimgv7yspkv32fsluv', 'Winter 2026 Course Schedule': 'https://ucdavis.app.box.com/file/1883221417778?s=ysc3c2r2ft2asna33vy7ss2t93a1vz6s', 'Spring 2026 Course Schedule': 'https://ucdavis.app.box.com/file/1883266982078?s=o9346zm3wcbmzax13t7uh26gl3cplnib'}\n"
     ]
    }
   ],
   "source": [
    "#All links\n",
    "\n",
    "links_to_boxes = soup.find_all('a')\n",
    "actual_box_links = {}\n",
    "\n",
    "temporary_list = []\n",
    "for link in links_to_boxes:\n",
    "    if 'box' in str(link):\n",
    "        temporary_list.append(str(link).split('\"'))\n",
    "\n",
    "for line in temporary_list:\n",
    "    for item in line:\n",
    "        if item.startswith('https'):\n",
    "            index = line[len(line)-1].lstrip('>').strip().replace('</a>', \"\").replace('<strong>', \"\").replace('</strong>', \"\")\n",
    "            actual_box_links[index] = item\n",
    "\n",
    "print(actual_box_links)\n",
    "\n",
    "\n"
   ]
  },
  {
   "cell_type": "code",
   "execution_count": null,
   "id": "9c24bd90",
   "metadata": {},
   "outputs": [],
   "source": [
    "#Return to this. Need to download the files before going trhough them\n",
    "#Database for Tenative Course Offerings\n",
    "#To find contradiction, check that all the classes here are mentioned in the catalog\n",
    "#canvas, ewr-sheettable\n",
    "#ewr-grdblkflowcontainer\n",
    "\n",
    "#df = pd.DataFrame(columns=\n",
    "\n",
    "url = actual_box_links['Tentative Course Offerings 2025-2026']\n",
    "\n",
    "page = requests.get(url)\n",
    "\n",
    "soup = BeautifulSoup(page.text, 'html')\n",
    "\n"
   ]
  }
 ],
 "metadata": {
  "kernelspec": {
   "display_name": "Python 3",
   "language": "python",
   "name": "python3"
  },
  "language_info": {
   "codemirror_mode": {
    "name": "ipython",
    "version": 3
   },
   "file_extension": ".py",
   "mimetype": "text/x-python",
   "name": "python",
   "nbconvert_exporter": "python",
   "pygments_lexer": "ipython3",
   "version": "3.11.1"
  }
 },
 "nbformat": 4,
 "nbformat_minor": 5
}
